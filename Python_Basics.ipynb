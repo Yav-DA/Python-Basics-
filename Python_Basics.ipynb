{
  "nbformat": 4,
  "nbformat_minor": 0,
  "metadata": {
    "colab": {
      "provenance": []
    },
    "kernelspec": {
      "name": "python3",
      "display_name": "Python 3"
    },
    "language_info": {
      "name": "python"
    }
  },
  "cells": [
    {
      "cell_type": "markdown",
      "source": [
        "Theoretical Answers"
      ],
      "metadata": {
        "id": "xzHy4ej2bPKD"
      }
    },
    {
      "cell_type": "markdown",
      "source": [
        "1. What is Python, and why is it popular?\n",
        "\n",
        "\n",
        "*   Python is a programming language known for its simple and easy to understand syntax. It is widely used in areas like web development, data analysis, AI, and automation because it allows developers to write clean and efficient code with less effort. It's popularity comes from its huge community support and availability of powerful libraries.\n",
        "\n",
        "2. What is an interpreter in Python?\n",
        "\n",
        "\n",
        "*   An interpreter is a tool that reads and runs Python code line by line. Instead of converting the entire code into machine language at once, it executes each instruction step-by-step, which makes it easier to debug and test.\n",
        "\n",
        "3. What are pre-defined keywords in Python?\n",
        "\n",
        "\n",
        "*   Pre-defined keywords are reserved terms in Python that have special meanings and uses, like if, for, class, etc. These words are part of the language syntax and cannot be used for other purposes like naming variables or functions.\n",
        "\n",
        "4. Can keywords be used as variable names?\n",
        "\n",
        "\n",
        "*   No, Python doesn't allow keywords to be used as variable names because they serve a specific purpose in the language's syntax. Doing so would confuse the interpreter and result in an error.\n",
        "\n",
        "5. What is mutability in Python?\n",
        "\n",
        "\n",
        "*   Mutability refers to whether a data structure can be changed after it’s created. In Python, mutable objects can be altered (like lists), while immutable ones (like strings or tuples) cannot be changed once defined.\n",
        "\n",
        "\n",
        "\n",
        "\n",
        "\n",
        "\n",
        "\n",
        "\n",
        "\n",
        "\n",
        "\n",
        "\n",
        "\n",
        "\n",
        "\n",
        "\n",
        "\n",
        "\n",
        "\n",
        "\n",
        "\n",
        "\n",
        "\n",
        "\n",
        "\n",
        "\n",
        "\n",
        "\n",
        "\n",
        "\n",
        "\n",
        "\n",
        "\n",
        "\n",
        "\n",
        "\n"
      ],
      "metadata": {
        "id": "7vvMJybNbUzH"
      }
    },
    {
      "cell_type": "code",
      "source": [
        "a = [1, 2, 3]\n",
        "a[0] = 100  # Mutable list\n",
        "print(a)  # [100, 2, 3]"
      ],
      "metadata": {
        "colab": {
          "base_uri": "https://localhost:8080/"
        },
        "id": "cYNqFU8Aye6Y",
        "outputId": "f2c15c96-eac7-405f-d8c3-f484cc39b652"
      },
      "execution_count": 1,
      "outputs": [
        {
          "output_type": "stream",
          "name": "stdout",
          "text": [
            "[100, 2, 3]\n"
          ]
        }
      ]
    },
    {
      "cell_type": "markdown",
      "source": [
        "6. Why are lists mutable, but tuples are immutable?\n",
        "\n",
        "\n",
        "*   Lists are designed to be dynamic, allowing changes like adding or removing elements. Tuples, on the other hand, are used to store fixed collections of items, so they are intentionally made unchangeable to maintain data consistency.\n",
        "\n"
      ],
      "metadata": {
        "id": "GIWqt2K4yhUQ"
      }
    },
    {
      "cell_type": "code",
      "source": [
        "my_list = [1, 2, 3]\n",
        "my_list[0] = 9  # Works\n",
        "\n",
        "my_tuple = (1, 2, 3)\n",
        "my_tuple[0] = 9    # my_tuple[0] = 9  # TypeError\n"
      ],
      "metadata": {
        "colab": {
          "base_uri": "https://localhost:8080/",
          "height": 180
        },
        "id": "fEYcXXHmySZf",
        "outputId": "d397139c-7086-47ae-faba-b79c678a6dba"
      },
      "execution_count": 6,
      "outputs": [
        {
          "output_type": "error",
          "ename": "TypeError",
          "evalue": "'tuple' object does not support item assignment",
          "traceback": [
            "\u001b[0;31m---------------------------------------------------------------------------\u001b[0m",
            "\u001b[0;31mTypeError\u001b[0m                                 Traceback (most recent call last)",
            "\u001b[0;32m<ipython-input-6-66e443b05fd9>\u001b[0m in \u001b[0;36m<cell line: 0>\u001b[0;34m()\u001b[0m\n\u001b[1;32m      3\u001b[0m \u001b[0;34m\u001b[0m\u001b[0m\n\u001b[1;32m      4\u001b[0m \u001b[0mmy_tuple\u001b[0m \u001b[0;34m=\u001b[0m \u001b[0;34m(\u001b[0m\u001b[0;36m1\u001b[0m\u001b[0;34m,\u001b[0m \u001b[0;36m2\u001b[0m\u001b[0;34m,\u001b[0m \u001b[0;36m3\u001b[0m\u001b[0;34m)\u001b[0m\u001b[0;34m\u001b[0m\u001b[0;34m\u001b[0m\u001b[0m\n\u001b[0;32m----> 5\u001b[0;31m \u001b[0mmy_tuple\u001b[0m\u001b[0;34m[\u001b[0m\u001b[0;36m0\u001b[0m\u001b[0;34m]\u001b[0m \u001b[0;34m=\u001b[0m \u001b[0;36m9\u001b[0m    \u001b[0;31m# my_tuple[0] = 9  # TypeError\u001b[0m\u001b[0;34m\u001b[0m\u001b[0;34m\u001b[0m\u001b[0m\n\u001b[0m",
            "\u001b[0;31mTypeError\u001b[0m: 'tuple' object does not support item assignment"
          ]
        }
      ]
    },
    {
      "cell_type": "markdown",
      "source": [
        "7. What is the difference between “==” and “is” operators in Python?\n",
        "\n",
        "\n",
        "*   The == operator checks if two values are equal, meaning they have the same content. On the other hand, the is operator checks whether two variables point to the same memory location (i.e., whether they are the same object in memory).\n",
        "\n"
      ],
      "metadata": {
        "id": "SqY9bSQYyy2i"
      }
    },
    {
      "cell_type": "code",
      "source": [
        "a = [1, 2, 3]\n",
        "b = [1, 2, 3]\n",
        "\n",
        "print(a == b)  # True (same content)\n",
        "print(a is b)  # False (different objects)"
      ],
      "metadata": {
        "colab": {
          "base_uri": "https://localhost:8080/"
        },
        "id": "9aS1Uc1Xzh77",
        "outputId": "62f16df8-56a3-41f8-dcc3-b83b0a78a644"
      },
      "execution_count": 7,
      "outputs": [
        {
          "output_type": "stream",
          "name": "stdout",
          "text": [
            "True\n",
            "False\n"
          ]
        }
      ]
    },
    {
      "cell_type": "markdown",
      "source": [
        "8. What are logical operators in Python?\n",
        "\n",
        "\n",
        "\n",
        "*   Logical operators in Python are used to combine conditional statements. The main ones are:\n",
        "and: Returns True only if both conditions are true.\n",
        "or: Returns True if at least one condition is true.\n",
        "not: Reverses the result of a condition.\n",
        "\n"
      ],
      "metadata": {
        "id": "46YjV58Izf2z"
      }
    },
    {
      "cell_type": "code",
      "source": [
        "x = 10\n",
        "print(x > 5 and x < 20)  # True\n",
        "print(x < 5 or x > 20)   # False\n",
        "print(not(x == 10))      # False"
      ],
      "metadata": {
        "colab": {
          "base_uri": "https://localhost:8080/"
        },
        "id": "a0E69CMvzt1m",
        "outputId": "6ed44cb1-e261-410c-a900-30226e98bc26"
      },
      "execution_count": 8,
      "outputs": [
        {
          "output_type": "stream",
          "name": "stdout",
          "text": [
            "True\n",
            "False\n",
            "False\n"
          ]
        }
      ]
    },
    {
      "cell_type": "markdown",
      "source": [
        "9. What is type casting in Python?\n",
        "\n",
        "\n",
        "\n",
        "*   Type casting is the process of converting a variable from one data type to another, such as turning a string into an integer or a float into a string. It helps in handling and manipulating different data types effectively.\n",
        "\n"
      ],
      "metadata": {
        "id": "8obWhfKQzurM"
      }
    },
    {
      "cell_type": "code",
      "source": [
        "num_str = \"123\"\n",
        "num_int = int(num_str)\n",
        "print(num_int + 1)  # 124"
      ],
      "metadata": {
        "colab": {
          "base_uri": "https://localhost:8080/"
        },
        "id": "sKsR0D0mz287",
        "outputId": "671ae134-7317-4dbd-e718-23243107ae99"
      },
      "execution_count": 9,
      "outputs": [
        {
          "output_type": "stream",
          "name": "stdout",
          "text": [
            "124\n"
          ]
        }
      ]
    },
    {
      "cell_type": "markdown",
      "source": [
        "10. What is the difference between implicit and explicit type casting?\n",
        "\n",
        "\n",
        "*   Implicit casting happens automatically when Python converts one data type to another without user involvement (e.g., int to float during calculations).\n",
        "*   Explicit casting is when the programmer manually converts one data type to another using functions like int(), float(), or str().\n",
        "\n"
      ],
      "metadata": {
        "id": "U2-Hc5jnz3dL"
      }
    },
    {
      "cell_type": "code",
      "source": [
        "# Implicit\n",
        "x = 5\n",
        "y = 2.0\n",
        "z = x + y\n",
        "print(type(z))  # float\n",
        "\n",
        "# Explicit\n",
        "a = \"10\"\n",
        "b = int(a)\n",
        "print(b + 5)  # 15"
      ],
      "metadata": {
        "colab": {
          "base_uri": "https://localhost:8080/"
        },
        "id": "Qo6psZxk0FsH",
        "outputId": "5c8460b9-d7df-4c8b-db6d-a6a01e4181cf"
      },
      "execution_count": 10,
      "outputs": [
        {
          "output_type": "stream",
          "name": "stdout",
          "text": [
            "<class 'float'>\n",
            "15\n"
          ]
        }
      ]
    },
    {
      "cell_type": "markdown",
      "source": [
        "11. What is the purpose of conditional statements in Python?\n",
        "\n",
        "\n",
        "*   Conditional statements allow a program to make decisions based on certain conditions. They help control the flow of execution, enabling different code blocks to run depending on whether a condition is true or false.\n",
        "\n"
      ],
      "metadata": {
        "id": "nqPTs7W30Gow"
      }
    },
    {
      "cell_type": "code",
      "source": [
        "age = 18\n",
        "if age >= 18:\n",
        "    print(\"Eligible to vote\")"
      ],
      "metadata": {
        "colab": {
          "base_uri": "https://localhost:8080/"
        },
        "id": "Wuc6m6R00VpR",
        "outputId": "9baf4627-20bf-43e2-c5f8-8c58b0231a7b"
      },
      "execution_count": 11,
      "outputs": [
        {
          "output_type": "stream",
          "name": "stdout",
          "text": [
            "Eligible to vote\n"
          ]
        }
      ]
    },
    {
      "cell_type": "markdown",
      "source": [
        "12. How does the elif statement work?\n",
        "\n",
        "\n",
        "\n",
        "*   The elif (short for \"else if\") statement lets you check multiple conditions after an if. If the initial if condition is false, Python checks the elif condition(s). If one of them is true, that block runs. It helps avoid writing multiple if-else statements.\n",
        "\n"
      ],
      "metadata": {
        "id": "4t4V1yLI0WM1"
      }
    },
    {
      "cell_type": "code",
      "source": [
        "score = 75\n",
        "if score >= 90:\n",
        "    print(\"Grade A\")\n",
        "elif score >= 70:\n",
        "    print(\"Grade B\")\n",
        "else:\n",
        "    print(\"Grade C\")"
      ],
      "metadata": {
        "colab": {
          "base_uri": "https://localhost:8080/"
        },
        "id": "FvjxBlQY0jvT",
        "outputId": "23906848-42e0-4ff5-d5c9-e43a443a4153"
      },
      "execution_count": 12,
      "outputs": [
        {
          "output_type": "stream",
          "name": "stdout",
          "text": [
            "Grade B\n"
          ]
        }
      ]
    },
    {
      "cell_type": "markdown",
      "source": [
        "13. What is the difference between for and while loops?\n",
        "\n",
        "\n",
        "*   A for loop is used when the number of iterations is known beforehand. It iterates over sequences like lists or ranges.\n",
        "*   A while loop runs as long as a given condition remains true. It's typically used when the number of iterations is not fixed.\n",
        "\n"
      ],
      "metadata": {
        "id": "bWON8Mur0kZM"
      }
    },
    {
      "cell_type": "code",
      "source": [
        "for i in range(5):\n",
        "    print(i)"
      ],
      "metadata": {
        "colab": {
          "base_uri": "https://localhost:8080/"
        },
        "id": "OVXIJYRB0sFW",
        "outputId": "39c460a3-0b60-4f7c-f014-a3bac848eba7"
      },
      "execution_count": 13,
      "outputs": [
        {
          "output_type": "stream",
          "name": "stdout",
          "text": [
            "0\n",
            "1\n",
            "2\n",
            "3\n",
            "4\n"
          ]
        }
      ]
    },
    {
      "cell_type": "code",
      "source": [
        "i = 0\n",
        "while i < 5:\n",
        "    print(i)\n",
        "    i += 1"
      ],
      "metadata": {
        "colab": {
          "base_uri": "https://localhost:8080/"
        },
        "id": "aX8g5q_30zzW",
        "outputId": "29509f52-5302-4750-9602-b3ad4a269389"
      },
      "execution_count": 14,
      "outputs": [
        {
          "output_type": "stream",
          "name": "stdout",
          "text": [
            "0\n",
            "1\n",
            "2\n",
            "3\n",
            "4\n"
          ]
        }
      ]
    },
    {
      "cell_type": "markdown",
      "source": [
        "14. Describe a scenario where a while loop is more suitable than a for loop.\n",
        "\n",
        "\n",
        "\n",
        "*   A while loop is better when the loop needs to keep running until a specific condition is met, rather than for a fixed number of times. For example, email input - where the user is repeatedly asked to enter a valid email address until it includes both \"@\" and \".\"."
      ],
      "metadata": {
        "id": "pWrSlsrc0skV"
      }
    },
    {
      "cell_type": "code",
      "source": [
        "email = \"\"\n",
        "while \"@\" not in email or \".\" not in email:\n",
        "    email = input(\"Enter a valid email: \")\n",
        "\n",
        "print(\"Email accepted!\")"
      ],
      "metadata": {
        "colab": {
          "base_uri": "https://localhost:8080/"
        },
        "id": "Z6530aOf0-Mb",
        "outputId": "0080e18c-cef6-4f94-898d-c03a80e222cd"
      },
      "execution_count": 17,
      "outputs": [
        {
          "output_type": "stream",
          "name": "stdout",
          "text": [
            "Enter a valid email: yavnika20\n",
            "Enter a valid email: yavnika20@gmail\n",
            "Enter a valid email: yavnika20@gmail.com\n",
            "Email accepted!\n"
          ]
        }
      ]
    },
    {
      "cell_type": "markdown",
      "source": [
        "**Practical Answers **"
      ],
      "metadata": {
        "id": "ghdIBdpEOX8b"
      }
    },
    {
      "cell_type": "markdown",
      "source": [
        "1. Print \"Hello, World!\""
      ],
      "metadata": {
        "id": "oqVz3pcwYYwX"
      }
    },
    {
      "cell_type": "code",
      "execution_count": 2,
      "metadata": {
        "colab": {
          "base_uri": "https://localhost:8080/"
        },
        "id": "BFdxEXIrOMq2",
        "outputId": "e9b5f4a2-18b2-4df4-f597-1478e70cbc88"
      },
      "outputs": [
        {
          "output_type": "stream",
          "name": "stdout",
          "text": [
            "Hello, World!\n"
          ]
        }
      ],
      "source": [
        "print(\"Hello, World!\")\n"
      ]
    },
    {
      "cell_type": "markdown",
      "source": [
        "2. Display your name and age"
      ],
      "metadata": {
        "id": "hMiembbLYgVG"
      }
    },
    {
      "cell_type": "code",
      "source": [
        "name = \"Yavnika\"\n",
        "age = 24\n",
        "print(\"Name:\", name)\n",
        "print(\"Age:\", age)"
      ],
      "metadata": {
        "colab": {
          "base_uri": "https://localhost:8080/"
        },
        "id": "rYGiAR3GOfnt",
        "outputId": "b4538f04-a0bf-4ac1-d440-186047d26e92"
      },
      "execution_count": 4,
      "outputs": [
        {
          "output_type": "stream",
          "name": "stdout",
          "text": [
            "Name: Yavnika\n",
            "Age: 24\n"
          ]
        }
      ]
    },
    {
      "cell_type": "markdown",
      "source": [
        "3. Print all pre-defined keywords"
      ],
      "metadata": {
        "id": "lUCvKDFCYk1Z"
      }
    },
    {
      "cell_type": "code",
      "source": [
        "import keyword\n",
        "print(keyword.kwlist)"
      ],
      "metadata": {
        "colab": {
          "base_uri": "https://localhost:8080/"
        },
        "id": "5jCcmBsgO6zR",
        "outputId": "2d94aa7a-3692-4e0d-94f1-84898e15b616"
      },
      "execution_count": 5,
      "outputs": [
        {
          "output_type": "stream",
          "name": "stdout",
          "text": [
            "['False', 'None', 'True', 'and', 'as', 'assert', 'async', 'await', 'break', 'class', 'continue', 'def', 'del', 'elif', 'else', 'except', 'finally', 'for', 'from', 'global', 'if', 'import', 'in', 'is', 'lambda', 'nonlocal', 'not', 'or', 'pass', 'raise', 'return', 'try', 'while', 'with', 'yield']\n"
          ]
        }
      ]
    },
    {
      "cell_type": "markdown",
      "source": [
        "4. Check if a word is a Python keyword"
      ],
      "metadata": {
        "id": "5M3vwD8SYsI1"
      }
    },
    {
      "cell_type": "code",
      "source": [
        "import keyword\n",
        "\n",
        "word = input(\"Enter a word: \")\n",
        "if keyword.iskeyword(word):\n",
        "    print(f\"{word} is a Python keyword.\")\n",
        "else:\n",
        "    print(f\"{word} is not a Python keyword.\")"
      ],
      "metadata": {
        "colab": {
          "base_uri": "https://localhost:8080/"
        },
        "id": "5F7cUSljPAzh",
        "outputId": "a36aea4c-b9f8-49a2-b814-752a02bae275"
      },
      "execution_count": 7,
      "outputs": [
        {
          "output_type": "stream",
          "name": "stdout",
          "text": [
            "Enter a word: break\n",
            "break is a Python keyword.\n"
          ]
        }
      ]
    },
    {
      "cell_type": "markdown",
      "source": [
        "5. List vs Tuple Mutability"
      ],
      "metadata": {
        "id": "Vz4ODUImYzl7"
      }
    },
    {
      "cell_type": "code",
      "source": [
        "# List (mutable)\n",
        "my_list = [1, 2, 3]\n",
        "my_list[0] = 10  # Works\n",
        "print(\"Modified List:\", my_list)\n",
        "\n",
        "# Tuple (immutable)\n",
        "my_tuple = (1, 2, 3)\n",
        "my_tuple[0] = 10  # This will raise a TypeError\n",
        "print(\"Original Tuple:\", my_tuple)"
      ],
      "metadata": {
        "colab": {
          "base_uri": "https://localhost:8080/",
          "height": 216
        },
        "id": "MrpZ-YRWPPpz",
        "outputId": "9063e36b-ef8c-4987-97c6-b2c973c84c74"
      },
      "execution_count": 10,
      "outputs": [
        {
          "output_type": "stream",
          "name": "stdout",
          "text": [
            "Modified List: [10, 2, 3]\n"
          ]
        },
        {
          "output_type": "error",
          "ename": "TypeError",
          "evalue": "'tuple' object does not support item assignment",
          "traceback": [
            "\u001b[0;31m---------------------------------------------------------------------------\u001b[0m",
            "\u001b[0;31mTypeError\u001b[0m                                 Traceback (most recent call last)",
            "\u001b[0;32m<ipython-input-10-b6e96af160c5>\u001b[0m in \u001b[0;36m<cell line: 0>\u001b[0;34m()\u001b[0m\n\u001b[1;32m      6\u001b[0m \u001b[0;31m# Tuple (immutable)\u001b[0m\u001b[0;34m\u001b[0m\u001b[0;34m\u001b[0m\u001b[0m\n\u001b[1;32m      7\u001b[0m \u001b[0mmy_tuple\u001b[0m \u001b[0;34m=\u001b[0m \u001b[0;34m(\u001b[0m\u001b[0;36m1\u001b[0m\u001b[0;34m,\u001b[0m \u001b[0;36m2\u001b[0m\u001b[0;34m,\u001b[0m \u001b[0;36m3\u001b[0m\u001b[0;34m)\u001b[0m\u001b[0;34m\u001b[0m\u001b[0;34m\u001b[0m\u001b[0m\n\u001b[0;32m----> 8\u001b[0;31m \u001b[0mmy_tuple\u001b[0m\u001b[0;34m[\u001b[0m\u001b[0;36m0\u001b[0m\u001b[0;34m]\u001b[0m \u001b[0;34m=\u001b[0m \u001b[0;36m10\u001b[0m  \u001b[0;31m# This will raise a TypeError\u001b[0m\u001b[0;34m\u001b[0m\u001b[0;34m\u001b[0m\u001b[0m\n\u001b[0m\u001b[1;32m      9\u001b[0m \u001b[0mprint\u001b[0m\u001b[0;34m(\u001b[0m\u001b[0;34m\"Original Tuple:\"\u001b[0m\u001b[0;34m,\u001b[0m \u001b[0mmy_tuple\u001b[0m\u001b[0;34m)\u001b[0m\u001b[0;34m\u001b[0m\u001b[0;34m\u001b[0m\u001b[0m\n",
            "\u001b[0;31mTypeError\u001b[0m: 'tuple' object does not support item assignment"
          ]
        }
      ]
    },
    {
      "cell_type": "markdown",
      "source": [
        "6. Mutable vs Immutable Arguments"
      ],
      "metadata": {
        "id": "FK82_WYQY380"
      }
    },
    {
      "cell_type": "code",
      "source": [
        "def modify_list(lst):\n",
        "    lst.append(100)\n",
        "\n",
        "def modify_int(n):\n",
        "    n += 1\n",
        "    return n\n",
        "\n",
        "my_list = [1, 2]\n",
        "my_int = 10\n",
        "\n",
        "modify_list(my_list)\n",
        "print(\"Modified List (mutable):\", my_list)\n",
        "\n",
        "result = modify_int(my_int)\n",
        "print(\"Original Int (immutable):\", my_int)\n",
        "print(\"Returned Int:\", result)"
      ],
      "metadata": {
        "colab": {
          "base_uri": "https://localhost:8080/"
        },
        "id": "77STaLJ8PpxM",
        "outputId": "737a49f1-5d75-4060-804b-6541eb431faa"
      },
      "execution_count": 11,
      "outputs": [
        {
          "output_type": "stream",
          "name": "stdout",
          "text": [
            "Modified List (mutable): [1, 2, 100]\n",
            "Original Int (immutable): 10\n",
            "Returned Int: 11\n"
          ]
        }
      ]
    },
    {
      "cell_type": "markdown",
      "source": [
        "7. Arithmetic operations"
      ],
      "metadata": {
        "id": "tIv50_JzY7lc"
      }
    },
    {
      "cell_type": "code",
      "source": [
        "a = float(input(\"Enter first number: \"))\n",
        "b = float(input(\"Enter second number: \"))\n",
        "\n",
        "print(\"Addition:\", a + b)\n",
        "print(\"Subtraction:\", a - b)\n",
        "print(\"Multiplication:\", a * b)\n",
        "print(\"Division:\", a / b if b != 0 else \"Cannot divide by zero\")"
      ],
      "metadata": {
        "colab": {
          "base_uri": "https://localhost:8080/"
        },
        "id": "XTt-NQGQUlVu",
        "outputId": "c97e643c-f6ad-466c-e0c4-5a4f3aa7613b"
      },
      "execution_count": 12,
      "outputs": [
        {
          "output_type": "stream",
          "name": "stdout",
          "text": [
            "Enter first number: 6\n",
            "Enter second number: 90\n",
            "Addition: 96.0\n",
            "Subtraction: -84.0\n",
            "Multiplication: 540.0\n",
            "Division: 0.06666666666666667\n"
          ]
        }
      ]
    },
    {
      "cell_type": "markdown",
      "source": [
        "8. Logical operators"
      ],
      "metadata": {
        "id": "QCn97Oa-Y_qX"
      }
    },
    {
      "cell_type": "code",
      "source": [
        "a = 10\n",
        "b = 20\n",
        "print(a > 5 and b > 15)\n",
        "print(a < 5 or b > 15)\n",
        "print(not (a > 5))"
      ],
      "metadata": {
        "colab": {
          "base_uri": "https://localhost:8080/"
        },
        "id": "68NRxGAcVKY8",
        "outputId": "5be44495-a546-4cea-9410-a424294ab71d"
      },
      "execution_count": 13,
      "outputs": [
        {
          "output_type": "stream",
          "name": "stdout",
          "text": [
            "True\n",
            "True\n",
            "False\n"
          ]
        }
      ]
    },
    {
      "cell_type": "markdown",
      "source": [
        "9. Convert input to different types"
      ],
      "metadata": {
        "id": "PFukbe9hZDUC"
      }
    },
    {
      "cell_type": "code",
      "source": [
        "s = input(\"Enter a value: \")\n",
        "\n",
        "print(\"Original (string):\", s)\n",
        "\n",
        "# Convert to integer\n",
        "try:\n",
        "    int_val = int(s)\n",
        "    print(\"Integer:\", int_val)\n",
        "except ValueError:\n",
        "    print(\"Cannot convert to integer\")\n",
        "\n",
        "# Convert to float\n",
        "try:\n",
        "    float_val = float(s)\n",
        "    print(\"Float:\", float_val)\n",
        "except ValueError:\n",
        "    print(\"Cannot convert to float\")\n",
        "\n",
        "# Convert to boolean\n",
        "bool_val = bool(s)\n",
        "print(\"Boolean:\", bool_val)"
      ],
      "metadata": {
        "colab": {
          "base_uri": "https://localhost:8080/"
        },
        "id": "8tZGCCT8VT8r",
        "outputId": "4f8d07e5-d3ce-4689-90bb-9fa337e744c7"
      },
      "execution_count": 18,
      "outputs": [
        {
          "output_type": "stream",
          "name": "stdout",
          "text": [
            "Enter a value: Hello\n",
            "Original (string): Hello\n",
            "Cannot convert to integer\n",
            "Cannot convert to float\n",
            "Boolean: True\n"
          ]
        }
      ]
    },
    {
      "cell_type": "markdown",
      "source": [
        "10. Type casting list elements"
      ],
      "metadata": {
        "id": "dZXdfQhmZHPl"
      }
    },
    {
      "cell_type": "code",
      "source": [
        "# Original list of strings\n",
        "str_list = [\"10\", \"20\", \"30\"]\n",
        "\n",
        "# Type cast each to int\n",
        "int_list = [int(x) for x in str_list]\n",
        "print(\"List of integers:\", int_list)\n",
        "\n",
        "# Type cast to float\n",
        "float_list = [float(x) for x in str_list]\n",
        "print(\"List of floats:\", float_list)"
      ],
      "metadata": {
        "colab": {
          "base_uri": "https://localhost:8080/"
        },
        "id": "bqDgP4SDWRnU",
        "outputId": "1d40918a-5696-45a5-b40c-48f0dcdc5186"
      },
      "execution_count": 20,
      "outputs": [
        {
          "output_type": "stream",
          "name": "stdout",
          "text": [
            "List of integers: [10, 20, 30]\n",
            "List of floats: [10.0, 20.0, 30.0]\n"
          ]
        }
      ]
    },
    {
      "cell_type": "markdown",
      "source": [
        "11. Check if number is +, -, or 0"
      ],
      "metadata": {
        "id": "RqqllCR-ZLlm"
      }
    },
    {
      "cell_type": "code",
      "source": [
        "n = float(input(\"Enter a number: \"))\n",
        "\n",
        "if n > 0:\n",
        "    print(\"Positive\")\n",
        "elif n < 0:\n",
        "    print(\"Negative\")\n",
        "else:\n",
        "    print(\"Zero\")"
      ],
      "metadata": {
        "colab": {
          "base_uri": "https://localhost:8080/"
        },
        "id": "6LTMUoc0XA5I",
        "outputId": "c5724500-1c09-40df-8960-c212e710db84"
      },
      "execution_count": 25,
      "outputs": [
        {
          "output_type": "stream",
          "name": "stdout",
          "text": [
            "Enter a number: 7\n",
            "Positive\n"
          ]
        }
      ]
    },
    {
      "cell_type": "markdown",
      "source": [
        "12. For loop: 1 to 10"
      ],
      "metadata": {
        "id": "U3giSPt3ZPId"
      }
    },
    {
      "cell_type": "code",
      "source": [
        "for i in range(1, 11):\n",
        "    print(i)"
      ],
      "metadata": {
        "colab": {
          "base_uri": "https://localhost:8080/"
        },
        "id": "r1llZkSnXT5T",
        "outputId": "47471f50-0bbc-40c9-981f-6c33bd70db84"
      },
      "execution_count": 26,
      "outputs": [
        {
          "output_type": "stream",
          "name": "stdout",
          "text": [
            "1\n",
            "2\n",
            "3\n",
            "4\n",
            "5\n",
            "6\n",
            "7\n",
            "8\n",
            "9\n",
            "10\n"
          ]
        }
      ]
    },
    {
      "cell_type": "markdown",
      "source": [
        "13. Sum of even numbers between 1–50"
      ],
      "metadata": {
        "id": "cPnH0W5FZShs"
      }
    },
    {
      "cell_type": "code",
      "source": [
        "sum_even = sum(i for i in range(1, 51) if i % 2 == 0)\n",
        "print(\"Sum of even numbers from 1 to 50:\", sum_even)"
      ],
      "metadata": {
        "colab": {
          "base_uri": "https://localhost:8080/"
        },
        "id": "nrr2iiMOXdL0",
        "outputId": "f189041b-1d75-45b8-e452-b50b6e0c1682"
      },
      "execution_count": 27,
      "outputs": [
        {
          "output_type": "stream",
          "name": "stdout",
          "text": [
            "Sum of even numbers from 1 to 50: 650\n"
          ]
        }
      ]
    },
    {
      "cell_type": "markdown",
      "source": [
        "14. Reverse a string using while loop"
      ],
      "metadata": {
        "id": "kX1iCclmZVnE"
      }
    },
    {
      "cell_type": "code",
      "source": [
        "s = input(\"Enter a string: \")\n",
        "reversed_str = \"\"\n",
        "i = len(s) - 1\n",
        "\n",
        "while i >= 0:\n",
        "    reversed_str += s[i]\n",
        "    i -= 1\n",
        "\n",
        "print(\"Reversed string:\", reversed_str)"
      ],
      "metadata": {
        "colab": {
          "base_uri": "https://localhost:8080/"
        },
        "id": "_-yp0P18Xifi",
        "outputId": "a04a1a0b-945e-40a8-c89c-0c9f040df2ca"
      },
      "execution_count": 28,
      "outputs": [
        {
          "output_type": "stream",
          "name": "stdout",
          "text": [
            "Enter a string: hello\n",
            "Reversed string: olleh\n"
          ]
        }
      ]
    },
    {
      "cell_type": "markdown",
      "source": [
        "15. Factorial using while loop"
      ],
      "metadata": {
        "id": "Q0EXHpp-ZbyU"
      }
    },
    {
      "cell_type": "code",
      "source": [
        "n = int(input(\"Enter a number: \"))\n",
        "fact = 1\n",
        "i = 1\n",
        "\n",
        "while i <= n:\n",
        "    fact *= i\n",
        "    i += 1\n",
        "\n",
        "print(f\"Factorial of {n} is {fact}\")"
      ],
      "metadata": {
        "colab": {
          "base_uri": "https://localhost:8080/"
        },
        "id": "DPxcYheTXr7U",
        "outputId": "eecb1b7f-edc1-498f-c609-36680c9d0449"
      },
      "execution_count": 32,
      "outputs": [
        {
          "output_type": "stream",
          "name": "stdout",
          "text": [
            "Enter a number: 10\n",
            "Factorial of 10 is 3628800\n"
          ]
        }
      ]
    }
  ]
}